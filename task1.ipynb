{
 "cells": [
  {
   "cell_type": "code",
   "execution_count": null,
   "id": "c0b706cc",
   "metadata": {},
   "outputs": [],
   "source": [
    "## 1. loading Data, we are going to load th edata of all cases from April18th to September 20th\n"
   ]
  },
  {
   "cell_type": "code",
   "execution_count": 5,
   "id": "151f80dc",
   "metadata": {},
   "outputs": [
    {
     "name": "stdout",
     "output_type": "stream",
     "text": [
      "         Date Country  Population  Total Tests  Total Cases  Total Deaths  \\\n",
      "0  2020-04-18     USA   331441624    3722145.0     738792.0       39014.0   \n",
      "1  2020-04-18   India  1383048851     335123.0      16365.0         521.0   \n",
      "2  2020-04-18  Brazil   212900304      62985.0      36722.0        2361.0   \n",
      "3  2020-04-18  Russia   145948762    1831892.0      36793.0         313.0   \n",
      "4  2020-04-18    Peru    33074060     135895.0      14420.0         348.0   \n",
      "\n",
      "   Total Recovered  Serious or Critical  Active Cases  \n",
      "0          68269.0              13551.0      631509.0  \n",
      "1           2463.0                  NaN       13381.0  \n",
      "2          14026.0               6634.0       20335.0  \n",
      "3           3057.0                  8.0       33423.0  \n",
      "4           6684.0                117.0        7388.0  \n"
     ]
    }
   ],
   "source": [
    "import pandas as pd\n",
    "path = r\"./raw/Data4Covid/worldometers_snapshots_April18_to_September20.csv\"\n",
    "\n",
    "df = pd.read_csv(path)\n",
    "print(df.head())"
   ]
  },
  {
   "cell_type": "code",
   "execution_count": 6,
   "id": "27a83ed6",
   "metadata": {},
   "outputs": [],
   "source": [
    "## 2. cleaning data \n"
   ]
  },
  {
   "cell_type": "code",
   "execution_count": 7,
   "id": "2c94819f",
   "metadata": {},
   "outputs": [],
   "source": [
    "## 3. Processing "
   ]
  },
  {
   "cell_type": "code",
   "execution_count": null,
   "id": "13ac9c24",
   "metadata": {},
   "outputs": [],
   "source": [
    "## . Wrangled data "
   ]
  }
 ],
 "metadata": {
  "kernelspec": {
   "display_name": "Python 3 (ipykernel)",
   "language": "python",
   "name": "python3"
  },
  "language_info": {
   "codemirror_mode": {
    "name": "ipython",
    "version": 3
   },
   "file_extension": ".py",
   "mimetype": "text/x-python",
   "name": "python",
   "nbconvert_exporter": "python",
   "pygments_lexer": "ipython3",
   "version": "3.8.5"
  }
 },
 "nbformat": 4,
 "nbformat_minor": 5
}
