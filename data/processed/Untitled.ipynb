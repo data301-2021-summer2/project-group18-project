{
 "cells": [
  {
   "cell_type": "markdown",
   "id": "e5e998c7-5fbd-4124-8adc-c2687b389830",
   "metadata": {},
   "source": [
    "# Test\n",
    "\n"
   ]
  },
  {
   "cell_type": "code",
   "execution_count": 97,
   "id": "3b24d168-ff3b-48a5-8b77-dd4237d204a8",
   "metadata": {},
   "outputs": [],
   "source": [
    "# Imported Items\n",
    "import pandas as pd\n",
    "from datetime import datetime\n",
    "import numpy as np\n",
    "import seaborn as sns\n",
    "import matplotlib.pyplot as plt\n"
   ]
  },
  {
   "cell_type": "code",
   "execution_count": 101,
   "id": "5f9f36af-ae1c-4f97-b68a-5e77accfe5d8",
   "metadata": {},
   "outputs": [
    {
     "data": {
      "image/png": "[encoded data removed]",
      "text/plain": [
       "<Figure size 640x480 with 1 Axes>"
      ]
     },
     "metadata": {},
     "output_type": "display_data"
    }
   ],
   "source": [
    "df = pd.read_csv(\"C:\\\\Users\\\\kapur\\\\Documents\\\\UBC\\\\1st Year\\\\1st Year Summer\\\\DATA 301\\\\Project\\\\project-group18-project\\\\data\\\\processed\\\\worldometers_snapshots_April18_to_September20.csv\")\n",
    "df_India = df[df[\"Country\"] == \"India\"]\n",
    "df_India[\"Date\"] = pd.to_datetime(df_India[\"Date\"]).dt.date\n",
    "df_India_lockdown = df_India.head(44)\n",
    "\n",
    "##Getting Daily Cases\n",
    "cases = list(df_India_lockdown[\"Total_Cases\"])\n",
    "beg_cases = cases[0]\n",
    "daily_cases = []\n",
    "for i in range(0,len(cases)):\n",
    "    daily_cases.append(cases[i] - beg_cases)\n",
    "\n",
    "df_India_lockdown[\"Daily_cases\"] = daily_cases\n",
    "##Dropping unwanted columns\n",
    "df_India_lockdown1 = df_India_lockdown.drop(labels = [\"Total_Deaths\", \"Total_Tests\", \"Population\", \"Total_Recovered\",\"Serious_or_Critical\",\"Active_Cases\"], axis = 1)\n",
    "sns.scatterplot(x = \"Date\", y = \"Daily_cases\", data = df_India_lockdown1)\n",
    "plt.show()\n",
    "\n",
    "\n"
   ]
  },
  {
   "cell_type": "code",
   "execution_count": null,
   "id": "dccc99b8-8ce8-494d-bd5d-ec800eaee4ef",
   "metadata": {},
   "outputs": [],
   "source": []
  },
  {
   "cell_type": "code",
   "execution_count": null,
   "id": "b328e2db-3a0e-442e-b5d4-b0def0b2ed9f",
   "metadata": {},
   "outputs": [],
   "source": []
  },
  {
   "cell_type": "code",
   "execution_count": null,
   "id": "4ce95e4a-5584-477d-a1d7-ac22761461b4",
   "metadata": {},
   "outputs": [],
   "source": []
  },
  {
   "cell_type": "code",
   "execution_count": null,
   "id": "1f4b90f8-0e26-4ca2-ab64-4d6ba15321ee",
   "metadata": {},
   "outputs": [],
   "source": []
  },
  {
   "cell_type": "code",
   "execution_count": null,
   "id": "d37bbcb3-6bb4-4f22-b698-62721aec3e67",
   "metadata": {},
   "outputs": [],
   "source": []
  },
  {
   "cell_type": "code",
   "execution_count": null,
   "id": "0386afed-e587-4c78-bda2-1b3cc1c2e767",
   "metadata": {},
   "outputs": [],
   "source": []
  },
  {
   "cell_type": "code",
   "execution_count": null,
   "id": "18495b77-a649-45b0-bfb2-aa9ee87ce133",
   "metadata": {},
   "outputs": [],
   "source": []
  },
  {
   "cell_type": "code",
   "execution_count": 21,
   "id": "dc253453-0fcc-42d0-a2f8-5efa2e074e7d",
   "metadata": {},
   "outputs": [
    {
     "name": "stdout",
     "output_type": "stream",
     "text": [
      "False\n"
     ]
    }
   ],
   "source": [
    "def over_budget(budget, food_bill, electricity_bill, internet_bill, rent):\n",
    "    sum = food_bill + electricity_bill + internet_bill + rent\n",
    "    if budget < sum:\n",
    "        print(\"You've gone over budget!\")\n",
    "        return True \n",
    "    else:\n",
    "        return False\n"
   ]
  },
  {
   "cell_type": "code",
   "execution_count": 22,
   "id": "cbfba2b3-a2c8-4f58-bcdb-3cdc8c753be0",
   "metadata": {},
   "outputs": [
    {
     "name": "stdout",
     "output_type": "stream",
     "text": [
      "hi!\n",
      "huh?\n",
      "ok\n"
     ]
    }
   ],
   "source": [
    "try:\n",
    "    print(\"hi!\")\n",
    "    num = 'three' \n",
    "    if num%3 != 0 :\n",
    "        print(\"nope\")\n",
    "    else:\n",
    "        print(\"yep\")\n",
    "except:\n",
    "    print(\"huh?\")\n",
    "finally:\n",
    "    print(\"ok\")"
   ]
  },
  {
   "cell_type": "code",
   "execution_count": 23,
   "id": "7a9c2952-b230-47ed-ad15-82593042360a",
   "metadata": {},
   "outputs": [
    {
     "name": "stdout",
     "output_type": "stream",
     "text": [
      "0\n",
      "b\n",
      "d\n"
     ]
    }
   ],
   "source": [
    "try:\n",
    "    num1 = 8\n",
    "    num2 = 0 \n",
    "    print(num1*num2) \n",
    "    print(num1/num2)\n",
    "    print(\"a\")\n",
    "except:\n",
    "    print(\"b\")\n",
    "else:\n",
    "    print(\"c\")\n",
    "finally:\n",
    "    print(\"d\")"
   ]
  },
  {
   "cell_type": "code",
   "execution_count": 31,
   "id": "a77d9880-77fd-47f5-a603-9a035aa0f125",
   "metadata": {},
   "outputs": [
    {
     "name": "stdout",
     "output_type": "stream",
     "text": [
      "37\n"
     ]
    }
   ],
   "source": [
    "\n",
    "def sum_values(my_dictionary):\n",
    "    length = len(my_dictionary)\n",
    "    sum = 0\n",
    "    k = list(my_dictionary)\n",
    "    for i in range(0,length):\n",
    "        sum += my_dictionary[k[i]]\n",
    "    return sum\n"
   ]
  },
  {
   "cell_type": "code",
   "execution_count": 35,
   "id": "4390121b-4144-4331-b5a1-7f2946685480",
   "metadata": {},
   "outputs": [
    {
     "name": "stdout",
     "output_type": "stream",
     "text": [
      "e\n"
     ]
    }
   ],
   "source": [
    "def max_key(my_dictionary):\n",
    "    largest_key = \"\"\n",
    "    largest_value = 0\n",
    "    k = list(my_dictionary)\n",
    "    length = len(my_dictionary)\n",
    "    for i in range(0,length):\n",
    "        temp = my_dictionary[k[i]]\n",
    "        if(temp > largest_value):\n",
    "            largest_key = k[i]\n",
    "            largest_value = temp\n",
    "    return largest_key\n",
    "\n",
    "dic = {\n",
    "    \"H\":10,\n",
    "    \"e\":122,\n",
    "    \"w\":22\n",
    "}\n",
    "print(max_key(dic))"
   ]
  },
  {
   "cell_type": "code",
   "execution_count": 39,
   "id": "8ed3fd25-c8f4-4fb7-93de-b2311ed8faf5",
   "metadata": {},
   "outputs": [
    {
     "name": "stdout",
     "output_type": "stream",
     "text": [
      "[1, 5, 6]\n"
     ]
    }
   ],
   "source": [
    "def remove_middle(lst, start,end):\n",
    "    l = range(start, end + 1)\n",
    "    length = len(lst)\n",
    "    output = []\n",
    "    count = 0\n",
    "    for i in range(0,length):\n",
    "        if(i in l):\n",
    "            count+=1# has no purpose. Only done to fill the if loop\n",
    "        else:\n",
    "            output.append(lst[i])\n",
    "    return output\n",
    "l = [1,2,3,4,5,6]\n",
    "print(remove_middle(l,1,3))"
   ]
  },
  {
   "cell_type": "code",
   "execution_count": null,
   "id": "dd0131eb-2005-4129-9287-25f50ea1d83d",
   "metadata": {},
   "outputs": [],
   "source": []
  }
 ],
 "metadata": {
  "kernelspec": {
   "display_name": "Python 3",
   "language": "python",
   "name": "python3"
  },
  "language_info": {
   "codemirror_mode": {
    "name": "ipython",
    "version": 3
   },
   "file_extension": ".py",
   "mimetype": "text/x-python",
   "name": "python",
   "nbconvert_exporter": "python",
   "pygments_lexer": "ipython3",
   "version": "3.8.5"
  }
 },
 "nbformat": 4,
 "nbformat_minor": 5
}
